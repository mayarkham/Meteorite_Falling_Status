{
 "cells": [
  {
   "cell_type": "markdown",
   "id": "4aa2d2eb",
   "metadata": {},
   "source": [
    "# Meteorite project"
   ]
  },
  {
   "cell_type": "code",
   "execution_count": 1,
   "id": "e8b614eb",
   "metadata": {},
   "outputs": [
    {
     "data": {
      "text/html": [
       "<div>\n",
       "<style scoped>\n",
       "    .dataframe tbody tr th:only-of-type {\n",
       "        vertical-align: middle;\n",
       "    }\n",
       "\n",
       "    .dataframe tbody tr th {\n",
       "        vertical-align: top;\n",
       "    }\n",
       "\n",
       "    .dataframe thead th {\n",
       "        text-align: right;\n",
       "    }\n",
       "</style>\n",
       "<table border=\"1\" class=\"dataframe\">\n",
       "  <thead>\n",
       "    <tr style=\"text-align: right;\">\n",
       "      <th></th>\n",
       "      <th>name</th>\n",
       "      <th>id</th>\n",
       "      <th>nametype</th>\n",
       "      <th>recclass</th>\n",
       "      <th>mass (g)</th>\n",
       "      <th>fall</th>\n",
       "      <th>year</th>\n",
       "      <th>reclat</th>\n",
       "      <th>reclong</th>\n",
       "      <th>GeoLocation</th>\n",
       "    </tr>\n",
       "  </thead>\n",
       "  <tbody>\n",
       "    <tr>\n",
       "      <th>0</th>\n",
       "      <td>Aachen</td>\n",
       "      <td>1</td>\n",
       "      <td>Valid</td>\n",
       "      <td>L5</td>\n",
       "      <td>21.0</td>\n",
       "      <td>Fell</td>\n",
       "      <td>1880.0</td>\n",
       "      <td>50.77500</td>\n",
       "      <td>6.08333</td>\n",
       "      <td>(50.775, 6.08333)</td>\n",
       "    </tr>\n",
       "    <tr>\n",
       "      <th>1</th>\n",
       "      <td>Aarhus</td>\n",
       "      <td>2</td>\n",
       "      <td>Valid</td>\n",
       "      <td>H6</td>\n",
       "      <td>720.0</td>\n",
       "      <td>Fell</td>\n",
       "      <td>1951.0</td>\n",
       "      <td>56.18333</td>\n",
       "      <td>10.23333</td>\n",
       "      <td>(56.18333, 10.23333)</td>\n",
       "    </tr>\n",
       "    <tr>\n",
       "      <th>2</th>\n",
       "      <td>Abee</td>\n",
       "      <td>6</td>\n",
       "      <td>Valid</td>\n",
       "      <td>EH4</td>\n",
       "      <td>107000.0</td>\n",
       "      <td>Fell</td>\n",
       "      <td>1952.0</td>\n",
       "      <td>54.21667</td>\n",
       "      <td>-113.00000</td>\n",
       "      <td>(54.21667, -113.0)</td>\n",
       "    </tr>\n",
       "    <tr>\n",
       "      <th>3</th>\n",
       "      <td>Acapulco</td>\n",
       "      <td>10</td>\n",
       "      <td>Valid</td>\n",
       "      <td>Acapulcoite</td>\n",
       "      <td>1914.0</td>\n",
       "      <td>Fell</td>\n",
       "      <td>1976.0</td>\n",
       "      <td>16.88333</td>\n",
       "      <td>-99.90000</td>\n",
       "      <td>(16.88333, -99.9)</td>\n",
       "    </tr>\n",
       "    <tr>\n",
       "      <th>4</th>\n",
       "      <td>Achiras</td>\n",
       "      <td>370</td>\n",
       "      <td>Valid</td>\n",
       "      <td>L6</td>\n",
       "      <td>780.0</td>\n",
       "      <td>Fell</td>\n",
       "      <td>1902.0</td>\n",
       "      <td>-33.16667</td>\n",
       "      <td>-64.95000</td>\n",
       "      <td>(-33.16667, -64.95)</td>\n",
       "    </tr>\n",
       "    <tr>\n",
       "      <th>...</th>\n",
       "      <td>...</td>\n",
       "      <td>...</td>\n",
       "      <td>...</td>\n",
       "      <td>...</td>\n",
       "      <td>...</td>\n",
       "      <td>...</td>\n",
       "      <td>...</td>\n",
       "      <td>...</td>\n",
       "      <td>...</td>\n",
       "      <td>...</td>\n",
       "    </tr>\n",
       "    <tr>\n",
       "      <th>45711</th>\n",
       "      <td>Zillah 002</td>\n",
       "      <td>31356</td>\n",
       "      <td>Valid</td>\n",
       "      <td>Eucrite</td>\n",
       "      <td>172.0</td>\n",
       "      <td>Found</td>\n",
       "      <td>1990.0</td>\n",
       "      <td>29.03700</td>\n",
       "      <td>17.01850</td>\n",
       "      <td>(29.037, 17.0185)</td>\n",
       "    </tr>\n",
       "    <tr>\n",
       "      <th>45712</th>\n",
       "      <td>Zinder</td>\n",
       "      <td>30409</td>\n",
       "      <td>Valid</td>\n",
       "      <td>Pallasite, ungrouped</td>\n",
       "      <td>46.0</td>\n",
       "      <td>Found</td>\n",
       "      <td>1999.0</td>\n",
       "      <td>13.78333</td>\n",
       "      <td>8.96667</td>\n",
       "      <td>(13.78333, 8.96667)</td>\n",
       "    </tr>\n",
       "    <tr>\n",
       "      <th>45713</th>\n",
       "      <td>Zlin</td>\n",
       "      <td>30410</td>\n",
       "      <td>Valid</td>\n",
       "      <td>H4</td>\n",
       "      <td>3.3</td>\n",
       "      <td>Found</td>\n",
       "      <td>1939.0</td>\n",
       "      <td>49.25000</td>\n",
       "      <td>17.66667</td>\n",
       "      <td>(49.25, 17.66667)</td>\n",
       "    </tr>\n",
       "    <tr>\n",
       "      <th>45714</th>\n",
       "      <td>Zubkovsky</td>\n",
       "      <td>31357</td>\n",
       "      <td>Valid</td>\n",
       "      <td>L6</td>\n",
       "      <td>2167.0</td>\n",
       "      <td>Found</td>\n",
       "      <td>2003.0</td>\n",
       "      <td>49.78917</td>\n",
       "      <td>41.50460</td>\n",
       "      <td>(49.78917, 41.5046)</td>\n",
       "    </tr>\n",
       "    <tr>\n",
       "      <th>45715</th>\n",
       "      <td>Zulu Queen</td>\n",
       "      <td>30414</td>\n",
       "      <td>Valid</td>\n",
       "      <td>L3.7</td>\n",
       "      <td>200.0</td>\n",
       "      <td>Found</td>\n",
       "      <td>1976.0</td>\n",
       "      <td>33.98333</td>\n",
       "      <td>-115.68333</td>\n",
       "      <td>(33.98333, -115.68333)</td>\n",
       "    </tr>\n",
       "  </tbody>\n",
       "</table>\n",
       "<p>45716 rows × 10 columns</p>\n",
       "</div>"
      ],
      "text/plain": [
       "             name     id nametype              recclass  mass (g)   fall  \\\n",
       "0          Aachen      1    Valid                    L5      21.0   Fell   \n",
       "1          Aarhus      2    Valid                    H6     720.0   Fell   \n",
       "2            Abee      6    Valid                   EH4  107000.0   Fell   \n",
       "3        Acapulco     10    Valid           Acapulcoite    1914.0   Fell   \n",
       "4         Achiras    370    Valid                    L6     780.0   Fell   \n",
       "...           ...    ...      ...                   ...       ...    ...   \n",
       "45711  Zillah 002  31356    Valid               Eucrite     172.0  Found   \n",
       "45712      Zinder  30409    Valid  Pallasite, ungrouped      46.0  Found   \n",
       "45713        Zlin  30410    Valid                    H4       3.3  Found   \n",
       "45714   Zubkovsky  31357    Valid                    L6    2167.0  Found   \n",
       "45715  Zulu Queen  30414    Valid                  L3.7     200.0  Found   \n",
       "\n",
       "         year    reclat    reclong             GeoLocation  \n",
       "0      1880.0  50.77500    6.08333       (50.775, 6.08333)  \n",
       "1      1951.0  56.18333   10.23333    (56.18333, 10.23333)  \n",
       "2      1952.0  54.21667 -113.00000      (54.21667, -113.0)  \n",
       "3      1976.0  16.88333  -99.90000       (16.88333, -99.9)  \n",
       "4      1902.0 -33.16667  -64.95000     (-33.16667, -64.95)  \n",
       "...       ...       ...        ...                     ...  \n",
       "45711  1990.0  29.03700   17.01850       (29.037, 17.0185)  \n",
       "45712  1999.0  13.78333    8.96667     (13.78333, 8.96667)  \n",
       "45713  1939.0  49.25000   17.66667       (49.25, 17.66667)  \n",
       "45714  2003.0  49.78917   41.50460     (49.78917, 41.5046)  \n",
       "45715  1976.0  33.98333 -115.68333  (33.98333, -115.68333)  \n",
       "\n",
       "[45716 rows x 10 columns]"
      ]
     },
     "execution_count": 1,
     "metadata": {},
     "output_type": "execute_result"
    }
   ],
   "source": [
    "import pandas as pd\n",
    "meteorite=pd.read_csv('Meteorie.csv')\n",
    "meteorite"
   ]
  },
  {
   "cell_type": "code",
   "execution_count": 2,
   "id": "ac5d893d",
   "metadata": {},
   "outputs": [],
   "source": [
    "meteorite['fall'] = meteorite['fall'].replace({'Found':1,'Fell':0})"
   ]
  },
  {
   "cell_type": "markdown",
   "id": "fd89d549",
   "metadata": {},
   "source": [
    "# Exclude all class except the top 5"
   ]
  },
  {
   "cell_type": "code",
   "execution_count": 3,
   "id": "add863d7",
   "metadata": {},
   "outputs": [
    {
     "name": "stdout",
     "output_type": "stream",
     "text": [
      "<class 'pandas.core.frame.DataFrame'>\n",
      "RangeIndex: 28962 entries, 0 to 28961\n",
      "Data columns (total 6 columns):\n",
      " #   Column    Non-Null Count  Dtype  \n",
      "---  ------    --------------  -----  \n",
      " 0   recclass  28962 non-null  object \n",
      " 1   mass (g)  28949 non-null  float64\n",
      " 2   fall      28962 non-null  int64  \n",
      " 3   year      28804 non-null  float64\n",
      " 4   reclat    24909 non-null  float64\n",
      " 5   reclong   24909 non-null  float64\n",
      "dtypes: float64(4), int64(1), object(1)\n",
      "memory usage: 1.3+ MB\n"
     ]
    }
   ],
   "source": [
    "final_data=meteorite.drop(columns=['GeoLocation','id','nametype','name'])\n",
    "import pandas as pd\n",
    "\n",
    "classes_to_be_kept = ['L6', 'H5', 'L5','H6','H4']\n",
    "\n",
    "final_data = final_data[final_data['recclass'].isin(classes_to_be_kept)]\n",
    "final_data = final_data.reset_index()\n",
    "final_data=final_data.drop(columns=['index'])\n",
    "final_data.info()"
   ]
  },
  {
   "cell_type": "code",
   "execution_count": 4,
   "id": "5934c477",
   "metadata": {},
   "outputs": [
    {
     "data": {
      "text/plain": [
       "recclass\n",
       "L6    8285\n",
       "H5    7142\n",
       "L5    4796\n",
       "H6    4528\n",
       "H4    4211\n",
       "Name: count, dtype: int64"
      ]
     },
     "execution_count": 4,
     "metadata": {},
     "output_type": "execute_result"
    }
   ],
   "source": [
    "value_counts = final_data['recclass'].value_counts()\n",
    "value_counts"
   ]
  },
  {
   "cell_type": "markdown",
   "id": "3650b50f",
   "metadata": {},
   "source": [
    "# Dealing with nan values using SimpleImputer with mean strategy"
   ]
  },
  {
   "cell_type": "code",
   "execution_count": 5,
   "id": "6ae61b6b",
   "metadata": {},
   "outputs": [],
   "source": [
    "from sklearn.impute import SimpleImputer\n",
    "import numpy as np\n",
    " \n",
    "imputer_num = SimpleImputer(missing_values=np.nan, strategy='mean')\n",
    "imputer_cat = SimpleImputer(missing_values=np.nan, strategy='most_frequent')\n",
    " \n",
    "num_cols = ['mass (g)', 'year', 'reclat', 'reclong']\n",
    "cat_col = ['recclass']\n",
    " \n",
    "final_data[num_cols] = imputer_num.fit_transform(final_data[num_cols]) \n",
    "final_data[cat_col] = imputer_cat.fit_transform(final_data[cat_col])\n"
   ]
  },
  {
   "cell_type": "code",
   "execution_count": 6,
   "id": "167c50f0",
   "metadata": {},
   "outputs": [
    {
     "name": "stdout",
     "output_type": "stream",
     "text": [
      "Mass null value:  0\n",
      "Year null value:  0\n",
      "Latitude null value:  0\n",
      "Longitude null value:  0\n",
      "reclass null value:  0\n"
     ]
    }
   ],
   "source": [
    "print('Mass null value: ',final_data['mass (g)'].isnull().sum())\n",
    "print('Year null value: ',final_data['year'].isnull().sum())\n",
    "print('Latitude null value: ',final_data['reclat'].isnull().sum())\n",
    "print('Longitude null value: ',final_data['reclong'].isnull().sum())\n",
    "print('reclass null value: ',final_data['recclass'].isnull().sum())"
   ]
  },
  {
   "cell_type": "markdown",
   "id": "4f570d75",
   "metadata": {},
   "source": [
    "# Dividing Data into X and Y"
   ]
  },
  {
   "cell_type": "code",
   "execution_count": 7,
   "id": "cd6e7311",
   "metadata": {},
   "outputs": [],
   "source": [
    "X = final_data.drop(columns=['fall']) \n",
    "Y = final_data['fall']"
   ]
  },
  {
   "cell_type": "markdown",
   "id": "10392965",
   "metadata": {},
   "source": [
    "# Encoding reclass using OneHotEncoder"
   ]
  },
  {
   "cell_type": "code",
   "execution_count": 8,
   "id": "8f7063c1",
   "metadata": {},
   "outputs": [
    {
     "name": "stderr",
     "output_type": "stream",
     "text": [
      "C:\\Users\\Admin\\anaconda3\\Lib\\site-packages\\sklearn\\preprocessing\\_encoders.py:972: FutureWarning: `sparse` was renamed to `sparse_output` in version 1.2 and will be removed in 1.4. `sparse_output` is ignored unless you leave `sparse` to its default value.\n",
      "  warnings.warn(\n"
     ]
    }
   ],
   "source": [
    "from sklearn.preprocessing import OneHotEncoder\n",
    "import pandas as pd\n",
    "\n",
    "encoder = OneHotEncoder(handle_unknown='ignore', sparse=False)\n",
    "encoded_data = encoder.fit_transform(X[['recclass']])\n",
    "\n",
    "# Get the feature names for the encoded columns\n",
    "feature_names = encoder.get_feature_names_out(['recclass'])\n",
    "encoded_df = pd.DataFrame(encoded_data, columns=feature_names)\n",
    "\n",
    "train = pd.concat([X.reset_index(drop=True), encoded_df], axis=1)\n",
    "\n",
    "X = train\n",
    "X = X.drop(columns=['recclass'])"
   ]
  },
  {
   "cell_type": "code",
   "execution_count": 9,
   "id": "a2cfe065",
   "metadata": {},
   "outputs": [],
   "source": [
    "from sklearn.model_selection import train_test_split\n",
    "X_train, X_test, Y_train, Y_test = train_test_split(X,Y,test_size=0.2)"
   ]
  },
  {
   "cell_type": "markdown",
   "id": "5531247d",
   "metadata": {},
   "source": [
    "# Scaling using StandardScaler"
   ]
  },
  {
   "cell_type": "code",
   "execution_count": 10,
   "id": "c58104cc",
   "metadata": {},
   "outputs": [],
   "source": [
    "from sklearn.preprocessing import StandardScaler\n",
    "\n",
    "scaler = StandardScaler()\n",
    "x_std= scaler.fit_transform(X_train) \n",
    "y_std = Y_train.to_numpy()"
   ]
  },
  {
   "cell_type": "code",
   "execution_count": 11,
   "id": "17e6a5f3",
   "metadata": {},
   "outputs": [],
   "source": [
    "x_std= pd.DataFrame(x_std,columns = ['mass (g)','year','reclat','reclong','recclass_H4','recclass_H5','recclass_H6','recclass_L5','recclass_L6'])"
   ]
  },
  {
   "cell_type": "code",
   "execution_count": 12,
   "id": "65556022",
   "metadata": {},
   "outputs": [
    {
     "data": {
      "text/html": [
       "<div>\n",
       "<style scoped>\n",
       "    .dataframe tbody tr th:only-of-type {\n",
       "        vertical-align: middle;\n",
       "    }\n",
       "\n",
       "    .dataframe tbody tr th {\n",
       "        vertical-align: top;\n",
       "    }\n",
       "\n",
       "    .dataframe thead th {\n",
       "        text-align: right;\n",
       "    }\n",
       "</style>\n",
       "<table border=\"1\" class=\"dataframe\">\n",
       "  <thead>\n",
       "    <tr style=\"text-align: right;\">\n",
       "      <th></th>\n",
       "      <th>mass (g)</th>\n",
       "      <th>year</th>\n",
       "      <th>reclat</th>\n",
       "      <th>reclong</th>\n",
       "      <th>recclass_H4</th>\n",
       "      <th>recclass_H5</th>\n",
       "      <th>recclass_H6</th>\n",
       "      <th>recclass_L5</th>\n",
       "      <th>recclass_L6</th>\n",
       "    </tr>\n",
       "  </thead>\n",
       "  <tbody>\n",
       "    <tr>\n",
       "      <th>count</th>\n",
       "      <td>23169.000</td>\n",
       "      <td>23169.000</td>\n",
       "      <td>23169.000</td>\n",
       "      <td>23169.000</td>\n",
       "      <td>23169.000</td>\n",
       "      <td>23169.000</td>\n",
       "      <td>23169.000</td>\n",
       "      <td>23169.000</td>\n",
       "      <td>23169.000</td>\n",
       "    </tr>\n",
       "    <tr>\n",
       "      <th>mean</th>\n",
       "      <td>0.000</td>\n",
       "      <td>0.000</td>\n",
       "      <td>0.000</td>\n",
       "      <td>-0.000</td>\n",
       "      <td>0.000</td>\n",
       "      <td>-0.000</td>\n",
       "      <td>-0.000</td>\n",
       "      <td>0.000</td>\n",
       "      <td>-0.000</td>\n",
       "    </tr>\n",
       "    <tr>\n",
       "      <th>std</th>\n",
       "      <td>1.000</td>\n",
       "      <td>1.000</td>\n",
       "      <td>1.000</td>\n",
       "      <td>1.000</td>\n",
       "      <td>1.000</td>\n",
       "      <td>1.000</td>\n",
       "      <td>1.000</td>\n",
       "      <td>1.000</td>\n",
       "      <td>1.000</td>\n",
       "    </tr>\n",
       "    <tr>\n",
       "      <th>min</th>\n",
       "      <td>-0.071</td>\n",
       "      <td>-17.345</td>\n",
       "      <td>-1.060</td>\n",
       "      <td>-3.111</td>\n",
       "      <td>-0.411</td>\n",
       "      <td>-0.569</td>\n",
       "      <td>-0.433</td>\n",
       "      <td>-0.449</td>\n",
       "      <td>-0.632</td>\n",
       "    </tr>\n",
       "    <tr>\n",
       "      <th>25%</th>\n",
       "      <td>-0.071</td>\n",
       "      <td>-0.301</td>\n",
       "      <td>-0.796</td>\n",
       "      <td>-0.658</td>\n",
       "      <td>-0.411</td>\n",
       "      <td>-0.569</td>\n",
       "      <td>-0.433</td>\n",
       "      <td>-0.449</td>\n",
       "      <td>-0.632</td>\n",
       "    </tr>\n",
       "    <tr>\n",
       "      <th>50%</th>\n",
       "      <td>-0.070</td>\n",
       "      <td>0.233</td>\n",
       "      <td>-0.682</td>\n",
       "      <td>0.001</td>\n",
       "      <td>-0.411</td>\n",
       "      <td>-0.569</td>\n",
       "      <td>-0.433</td>\n",
       "      <td>-0.449</td>\n",
       "      <td>-0.632</td>\n",
       "    </tr>\n",
       "    <tr>\n",
       "      <th>75%</th>\n",
       "      <td>-0.064</td>\n",
       "      <td>0.554</td>\n",
       "      <td>1.024</td>\n",
       "      <td>1.230</td>\n",
       "      <td>-0.411</td>\n",
       "      <td>-0.569</td>\n",
       "      <td>-0.433</td>\n",
       "      <td>-0.449</td>\n",
       "      <td>1.583</td>\n",
       "    </tr>\n",
       "    <tr>\n",
       "      <th>max</th>\n",
       "      <td>88.349</td>\n",
       "      <td>1.088</td>\n",
       "      <td>2.961</td>\n",
       "      <td>1.482</td>\n",
       "      <td>2.431</td>\n",
       "      <td>1.758</td>\n",
       "      <td>2.309</td>\n",
       "      <td>2.228</td>\n",
       "      <td>1.583</td>\n",
       "    </tr>\n",
       "  </tbody>\n",
       "</table>\n",
       "</div>"
      ],
      "text/plain": [
       "        mass (g)       year     reclat    reclong  recclass_H4  recclass_H5  \\\n",
       "count  23169.000  23169.000  23169.000  23169.000    23169.000    23169.000   \n",
       "mean       0.000      0.000      0.000     -0.000        0.000       -0.000   \n",
       "std        1.000      1.000      1.000      1.000        1.000        1.000   \n",
       "min       -0.071    -17.345     -1.060     -3.111       -0.411       -0.569   \n",
       "25%       -0.071     -0.301     -0.796     -0.658       -0.411       -0.569   \n",
       "50%       -0.070      0.233     -0.682      0.001       -0.411       -0.569   \n",
       "75%       -0.064      0.554      1.024      1.230       -0.411       -0.569   \n",
       "max       88.349      1.088      2.961      1.482        2.431        1.758   \n",
       "\n",
       "       recclass_H6  recclass_L5  recclass_L6  \n",
       "count    23169.000    23169.000    23169.000  \n",
       "mean        -0.000        0.000       -0.000  \n",
       "std          1.000        1.000        1.000  \n",
       "min         -0.433       -0.449       -0.632  \n",
       "25%         -0.433       -0.449       -0.632  \n",
       "50%         -0.433       -0.449       -0.632  \n",
       "75%         -0.433       -0.449        1.583  \n",
       "max          2.309        2.228        1.583  "
      ]
     },
     "execution_count": 12,
     "metadata": {},
     "output_type": "execute_result"
    }
   ],
   "source": [
    "x_std.describe().round(3) "
   ]
  },
  {
   "cell_type": "markdown",
   "id": "a675d9cf",
   "metadata": {},
   "source": [
    "# RandomForestClassifier for fitting data"
   ]
  },
  {
   "cell_type": "code",
   "execution_count": 13,
   "id": "5839860a",
   "metadata": {},
   "outputs": [
    {
     "data": {
      "text/html": [
       "<style>#sk-container-id-1 {color: black;}#sk-container-id-1 pre{padding: 0;}#sk-container-id-1 div.sk-toggleable {background-color: white;}#sk-container-id-1 label.sk-toggleable__label {cursor: pointer;display: block;width: 100%;margin-bottom: 0;padding: 0.3em;box-sizing: border-box;text-align: center;}#sk-container-id-1 label.sk-toggleable__label-arrow:before {content: \"▸\";float: left;margin-right: 0.25em;color: #696969;}#sk-container-id-1 label.sk-toggleable__label-arrow:hover:before {color: black;}#sk-container-id-1 div.sk-estimator:hover label.sk-toggleable__label-arrow:before {color: black;}#sk-container-id-1 div.sk-toggleable__content {max-height: 0;max-width: 0;overflow: hidden;text-align: left;background-color: #f0f8ff;}#sk-container-id-1 div.sk-toggleable__content pre {margin: 0.2em;color: black;border-radius: 0.25em;background-color: #f0f8ff;}#sk-container-id-1 input.sk-toggleable__control:checked~div.sk-toggleable__content {max-height: 200px;max-width: 100%;overflow: auto;}#sk-container-id-1 input.sk-toggleable__control:checked~label.sk-toggleable__label-arrow:before {content: \"▾\";}#sk-container-id-1 div.sk-estimator input.sk-toggleable__control:checked~label.sk-toggleable__label {background-color: #d4ebff;}#sk-container-id-1 div.sk-label input.sk-toggleable__control:checked~label.sk-toggleable__label {background-color: #d4ebff;}#sk-container-id-1 input.sk-hidden--visually {border: 0;clip: rect(1px 1px 1px 1px);clip: rect(1px, 1px, 1px, 1px);height: 1px;margin: -1px;overflow: hidden;padding: 0;position: absolute;width: 1px;}#sk-container-id-1 div.sk-estimator {font-family: monospace;background-color: #f0f8ff;border: 1px dotted black;border-radius: 0.25em;box-sizing: border-box;margin-bottom: 0.5em;}#sk-container-id-1 div.sk-estimator:hover {background-color: #d4ebff;}#sk-container-id-1 div.sk-parallel-item::after {content: \"\";width: 100%;border-bottom: 1px solid gray;flex-grow: 1;}#sk-container-id-1 div.sk-label:hover label.sk-toggleable__label {background-color: #d4ebff;}#sk-container-id-1 div.sk-serial::before {content: \"\";position: absolute;border-left: 1px solid gray;box-sizing: border-box;top: 0;bottom: 0;left: 50%;z-index: 0;}#sk-container-id-1 div.sk-serial {display: flex;flex-direction: column;align-items: center;background-color: white;padding-right: 0.2em;padding-left: 0.2em;position: relative;}#sk-container-id-1 div.sk-item {position: relative;z-index: 1;}#sk-container-id-1 div.sk-parallel {display: flex;align-items: stretch;justify-content: center;background-color: white;position: relative;}#sk-container-id-1 div.sk-item::before, #sk-container-id-1 div.sk-parallel-item::before {content: \"\";position: absolute;border-left: 1px solid gray;box-sizing: border-box;top: 0;bottom: 0;left: 50%;z-index: -1;}#sk-container-id-1 div.sk-parallel-item {display: flex;flex-direction: column;z-index: 1;position: relative;background-color: white;}#sk-container-id-1 div.sk-parallel-item:first-child::after {align-self: flex-end;width: 50%;}#sk-container-id-1 div.sk-parallel-item:last-child::after {align-self: flex-start;width: 50%;}#sk-container-id-1 div.sk-parallel-item:only-child::after {width: 0;}#sk-container-id-1 div.sk-dashed-wrapped {border: 1px dashed gray;margin: 0 0.4em 0.5em 0.4em;box-sizing: border-box;padding-bottom: 0.4em;background-color: white;}#sk-container-id-1 div.sk-label label {font-family: monospace;font-weight: bold;display: inline-block;line-height: 1.2em;}#sk-container-id-1 div.sk-label-container {text-align: center;}#sk-container-id-1 div.sk-container {/* jupyter's `normalize.less` sets `[hidden] { display: none; }` but bootstrap.min.css set `[hidden] { display: none !important; }` so we also need the `!important` here to be able to override the default hidden behavior on the sphinx rendered scikit-learn.org. See: https://github.com/scikit-learn/scikit-learn/issues/21755 */display: inline-block !important;position: relative;}#sk-container-id-1 div.sk-text-repr-fallback {display: none;}</style><div id=\"sk-container-id-1\" class=\"sk-top-container\"><div class=\"sk-text-repr-fallback\"><pre>RandomForestClassifier(random_state=42)</pre><b>In a Jupyter environment, please rerun this cell to show the HTML representation or trust the notebook. <br />On GitHub, the HTML representation is unable to render, please try loading this page with nbviewer.org.</b></div><div class=\"sk-container\" hidden><div class=\"sk-item\"><div class=\"sk-estimator sk-toggleable\"><input class=\"sk-toggleable__control sk-hidden--visually\" id=\"sk-estimator-id-1\" type=\"checkbox\" checked><label for=\"sk-estimator-id-1\" class=\"sk-toggleable__label sk-toggleable__label-arrow\">RandomForestClassifier</label><div class=\"sk-toggleable__content\"><pre>RandomForestClassifier(random_state=42)</pre></div></div></div></div></div>"
      ],
      "text/plain": [
       "RandomForestClassifier(random_state=42)"
      ]
     },
     "execution_count": 13,
     "metadata": {},
     "output_type": "execute_result"
    }
   ],
   "source": [
    "from sklearn.ensemble import RandomForestClassifier\n",
    "\n",
    "rf_classifier = RandomForestClassifier(n_estimators=100, random_state=42)\n",
    "rf_classifier.fit(x_std, y_std) "
   ]
  },
  {
   "cell_type": "markdown",
   "id": "6cbebe4f",
   "metadata": {},
   "source": [
    "# Prediction "
   ]
  },
  {
   "cell_type": "code",
   "execution_count": 14,
   "id": "8710075f",
   "metadata": {},
   "outputs": [
    {
     "name": "stderr",
     "output_type": "stream",
     "text": [
      "C:\\Users\\Admin\\anaconda3\\Lib\\site-packages\\sklearn\\base.py:464: UserWarning: X does not have valid feature names, but RandomForestClassifier was fitted with feature names\n",
      "  warnings.warn(\n"
     ]
    }
   ],
   "source": [
    "xt_std= scaler.fit_transform(X_test) \n",
    "predictions = rf_classifier.predict(xt_std)"
   ]
  },
  {
   "cell_type": "code",
   "execution_count": 15,
   "id": "0e6ac5fa",
   "metadata": {},
   "outputs": [
    {
     "name": "stdout",
     "output_type": "stream",
     "text": [
      "Classification Report:\n",
      "              precision    recall  f1-score   support\n",
      "\n",
      "           0       0.85      0.81      0.83       139\n",
      "           1       1.00      1.00      1.00      5654\n",
      "\n",
      "    accuracy                           0.99      5793\n",
      "   macro avg       0.92      0.90      0.91      5793\n",
      "weighted avg       0.99      0.99      0.99      5793\n",
      "\n",
      "Cohen's Kappa: 0.8224173252535372\n"
     ]
    }
   ],
   "source": [
    "from sklearn.metrics import cohen_kappa_score\n",
    "import matplotlib.pyplot as plt\n",
    "from sklearn.metrics import classification_report\n",
    "\n",
    "report = classification_report(Y_test, predictions)\n",
    "\n",
    "print(\"Classification Report:\")\n",
    "print(report)\n",
    "\n",
    "kappa_rf = cohen_kappa_score(Y_test, predictions)\n",
    "\n",
    "print(\"Cohen's Kappa:\", kappa_rf)"
   ]
  },
  {
   "cell_type": "markdown",
   "id": "334b120d",
   "metadata": {},
   "source": [
    "# Evaluation"
   ]
  },
  {
   "cell_type": "code",
   "execution_count": 16,
   "id": "eca9f4e9",
   "metadata": {},
   "outputs": [
    {
     "data": {
      "image/png": "[encoded data removed]",
      "text/plain": [
       "<Figure size 640x480 with 1 Axes>"
      ]
     },
     "metadata": {},
     "output_type": "display_data"
    }
   ],
   "source": [
    "from sklearn.metrics import accuracy_score, precision_score, recall_score, f1_score, confusion_matrix, roc_auc_score, roc_curve, precision_recall_curve\n",
    "\n",
    "accuracy = accuracy_score(Y_test, predictions)\n",
    "precision = precision_score(Y_test, predictions, average='macro')\n",
    "recall = recall_score(Y_test, predictions, average='macro')\n",
    "f1 = f1_score(Y_test, predictions, average='macro')\n",
    "conf_matrix = confusion_matrix(Y_test, predictions)\n",
    "roc_auc = roc_auc_score(Y_test, predictions)\n",
    "fpr, tpr, thresholds = roc_curve(Y_test, predictions)\n",
    "precision_curve, recall_curve, _ = precision_recall_curve(Y_test, predictions)\n",
    "\n",
    "labels = ['Cohen\\'s kappa', 'Precision', 'Recall', 'F1-score','roc_auc']\n",
    "values = [kappa_rf, precision, recall, f1,roc_auc]\n",
    "plt.grid(axis='y', linestyle='--', alpha=0.7)\n",
    "colors = ['darkorchid', 'aquamarine', 'hotpink', 'palegreen', 'slateblue']\n",
    "plt.bar(labels, values , color=colors)\n",
    "plt.title('Metrics for RandomForest Classifier')\n",
    "plt.ylabel('Score')\n",
    "plt.show()"
   ]
  },
  {
   "cell_type": "markdown",
   "id": "ac6b494b",
   "metadata": {},
   "source": [
    "# The Most effective feature\n",
    "SHAP (SHapley Additive exPlanations) is a game theoretic approach to explain the output of any machine learning model. It connects optimal credit allocation with local explanations using the classic Shapley values from game theory and their related extensions"
   ]
  },
  {
   "cell_type": "code",
   "execution_count": 17,
   "id": "afe37ad7",
   "metadata": {},
   "outputs": [
    {
     "name": "stderr",
     "output_type": "stream",
     "text": [
      " 99%|===================| 11516/11586 [00:25<00:00]        C:\\Users\\Admin\\anaconda3\\Lib\\site-packages\\shap\\plots\\_beeswarm.py:962: UserWarning: The figure layout has changed to tight\n",
      "  pl.tight_layout()\n",
      "C:\\Users\\Admin\\anaconda3\\Lib\\site-packages\\shap\\plots\\_beeswarm.py:636: UserWarning: The figure layout has changed to tight\n",
      "  pl.tight_layout(pad=0, w_pad=0, h_pad=0.0)\n"
     ]
    },
    {
     "data": {
      "image/png": "[encoded data removed]",
      "text/plain": [
       "<Figure size 1150x660 with 2 Axes>"
      ]
     },
     "metadata": {},
     "output_type": "display_data"
    }
   ],
   "source": [
    "import shap\n",
    "\n",
    "# Create an explainer object\n",
    "explainer = shap.Explainer(rf_classifier, X_train)\n",
    "\n",
    "# Calculate SHAP values\n",
    "shap_values = explainer.shap_values(X_test)\n",
    "\n",
    "# Plot SHAP summary plot\n",
    "shap.summary_plot(shap_values, X_test, plot_type=\"bar\")"
   ]
  },
  {
   "cell_type": "code",
   "execution_count": 18,
   "id": "cfb1eca1",
   "metadata": {},
   "outputs": [],
   "source": [
    "#pip install shap"
   ]
  },
  {
   "cell_type": "markdown",
   "id": "2b99f936",
   "metadata": {},
   "source": [
    "# Trying To classify data with the \"year\" and \"mass\" columns"
   ]
  },
  {
   "cell_type": "code",
   "execution_count": 19,
   "id": "d178f43b",
   "metadata": {},
   "outputs": [
    {
     "data": {
      "text/html": [
       "<style>#sk-container-id-2 {color: black;}#sk-container-id-2 pre{padding: 0;}#sk-container-id-2 div.sk-toggleable {background-color: white;}#sk-container-id-2 label.sk-toggleable__label {cursor: pointer;display: block;width: 100%;margin-bottom: 0;padding: 0.3em;box-sizing: border-box;text-align: center;}#sk-container-id-2 label.sk-toggleable__label-arrow:before {content: \"▸\";float: left;margin-right: 0.25em;color: #696969;}#sk-container-id-2 label.sk-toggleable__label-arrow:hover:before {color: black;}#sk-container-id-2 div.sk-estimator:hover label.sk-toggleable__label-arrow:before {color: black;}#sk-container-id-2 div.sk-toggleable__content {max-height: 0;max-width: 0;overflow: hidden;text-align: left;background-color: #f0f8ff;}#sk-container-id-2 div.sk-toggleable__content pre {margin: 0.2em;color: black;border-radius: 0.25em;background-color: #f0f8ff;}#sk-container-id-2 input.sk-toggleable__control:checked~div.sk-toggleable__content {max-height: 200px;max-width: 100%;overflow: auto;}#sk-container-id-2 input.sk-toggleable__control:checked~label.sk-toggleable__label-arrow:before {content: \"▾\";}#sk-container-id-2 div.sk-estimator input.sk-toggleable__control:checked~label.sk-toggleable__label {background-color: #d4ebff;}#sk-container-id-2 div.sk-label input.sk-toggleable__control:checked~label.sk-toggleable__label {background-color: #d4ebff;}#sk-container-id-2 input.sk-hidden--visually {border: 0;clip: rect(1px 1px 1px 1px);clip: rect(1px, 1px, 1px, 1px);height: 1px;margin: -1px;overflow: hidden;padding: 0;position: absolute;width: 1px;}#sk-container-id-2 div.sk-estimator {font-family: monospace;background-color: #f0f8ff;border: 1px dotted black;border-radius: 0.25em;box-sizing: border-box;margin-bottom: 0.5em;}#sk-container-id-2 div.sk-estimator:hover {background-color: #d4ebff;}#sk-container-id-2 div.sk-parallel-item::after {content: \"\";width: 100%;border-bottom: 1px solid gray;flex-grow: 1;}#sk-container-id-2 div.sk-label:hover label.sk-toggleable__label {background-color: #d4ebff;}#sk-container-id-2 div.sk-serial::before {content: \"\";position: absolute;border-left: 1px solid gray;box-sizing: border-box;top: 0;bottom: 0;left: 50%;z-index: 0;}#sk-container-id-2 div.sk-serial {display: flex;flex-direction: column;align-items: center;background-color: white;padding-right: 0.2em;padding-left: 0.2em;position: relative;}#sk-container-id-2 div.sk-item {position: relative;z-index: 1;}#sk-container-id-2 div.sk-parallel {display: flex;align-items: stretch;justify-content: center;background-color: white;position: relative;}#sk-container-id-2 div.sk-item::before, #sk-container-id-2 div.sk-parallel-item::before {content: \"\";position: absolute;border-left: 1px solid gray;box-sizing: border-box;top: 0;bottom: 0;left: 50%;z-index: -1;}#sk-container-id-2 div.sk-parallel-item {display: flex;flex-direction: column;z-index: 1;position: relative;background-color: white;}#sk-container-id-2 div.sk-parallel-item:first-child::after {align-self: flex-end;width: 50%;}#sk-container-id-2 div.sk-parallel-item:last-child::after {align-self: flex-start;width: 50%;}#sk-container-id-2 div.sk-parallel-item:only-child::after {width: 0;}#sk-container-id-2 div.sk-dashed-wrapped {border: 1px dashed gray;margin: 0 0.4em 0.5em 0.4em;box-sizing: border-box;padding-bottom: 0.4em;background-color: white;}#sk-container-id-2 div.sk-label label {font-family: monospace;font-weight: bold;display: inline-block;line-height: 1.2em;}#sk-container-id-2 div.sk-label-container {text-align: center;}#sk-container-id-2 div.sk-container {/* jupyter's `normalize.less` sets `[hidden] { display: none; }` but bootstrap.min.css set `[hidden] { display: none !important; }` so we also need the `!important` here to be able to override the default hidden behavior on the sphinx rendered scikit-learn.org. See: https://github.com/scikit-learn/scikit-learn/issues/21755 */display: inline-block !important;position: relative;}#sk-container-id-2 div.sk-text-repr-fallback {display: none;}</style><div id=\"sk-container-id-2\" class=\"sk-top-container\"><div class=\"sk-text-repr-fallback\"><pre>RandomForestClassifier(random_state=42)</pre><b>In a Jupyter environment, please rerun this cell to show the HTML representation or trust the notebook. <br />On GitHub, the HTML representation is unable to render, please try loading this page with nbviewer.org.</b></div><div class=\"sk-container\" hidden><div class=\"sk-item\"><div class=\"sk-estimator sk-toggleable\"><input class=\"sk-toggleable__control sk-hidden--visually\" id=\"sk-estimator-id-2\" type=\"checkbox\" checked><label for=\"sk-estimator-id-2\" class=\"sk-toggleable__label sk-toggleable__label-arrow\">RandomForestClassifier</label><div class=\"sk-toggleable__content\"><pre>RandomForestClassifier(random_state=42)</pre></div></div></div></div></div>"
      ],
      "text/plain": [
       "RandomForestClassifier(random_state=42)"
      ]
     },
     "execution_count": 19,
     "metadata": {},
     "output_type": "execute_result"
    }
   ],
   "source": [
    "x_new = x_std.drop(columns = ['reclat','reclong','recclass_H4',\"recclass_H5\",\"recclass_H6\",\"recclass_L5\",\"recclass_L6\"])\n",
    "\n",
    "rf_classifier = RandomForestClassifier(n_estimators=100, random_state=42)\n",
    "rf_classifier.fit(x_new, y_std) \n"
   ]
  },
  {
   "cell_type": "code",
   "execution_count": 20,
   "id": "fe4ac36d",
   "metadata": {},
   "outputs": [
    {
     "name": "stderr",
     "output_type": "stream",
     "text": [
      "C:\\Users\\Admin\\anaconda3\\Lib\\site-packages\\sklearn\\base.py:464: UserWarning: X does not have valid feature names, but RandomForestClassifier was fitted with feature names\n",
      "  warnings.warn(\n"
     ]
    }
   ],
   "source": [
    "X_test_new = X_test.drop(columns = ['reclat','reclong','recclass_H4',\"recclass_H5\",\"recclass_H6\",\"recclass_L5\",\"recclass_L6\"])\n",
    "xt_std_new= scaler.fit_transform(X_test_new) \n",
    "predictions_new = rf_classifier.predict(xt_std_new)"
   ]
  },
  {
   "cell_type": "code",
   "execution_count": 21,
   "id": "cbfef88b",
   "metadata": {},
   "outputs": [
    {
     "name": "stdout",
     "output_type": "stream",
     "text": [
      "Classification Report:\n",
      "              precision    recall  f1-score   support\n",
      "\n",
      "           0       0.62      0.50      0.56       139\n",
      "           1       0.99      0.99      0.99      5654\n",
      "\n",
      "    accuracy                           0.98      5793\n",
      "   macro avg       0.81      0.75      0.77      5793\n",
      "weighted avg       0.98      0.98      0.98      5793\n",
      "\n",
      "Cohen's Kappa: 0.5480920397468001\n"
     ]
    }
   ],
   "source": [
    "from sklearn.metrics import cohen_kappa_score\n",
    "import matplotlib.pyplot as plt\n",
    "from sklearn.metrics import classification_report\n",
    "\n",
    "report = classification_report(Y_test, predictions_new)\n",
    "\n",
    "print(\"Classification Report:\")\n",
    "print(report)\n",
    "\n",
    "kappa_rf_new = cohen_kappa_score(Y_test, predictions_new)\n",
    "print(\"Cohen's Kappa:\", kappa_rf_new)"
   ]
  },
  {
   "cell_type": "markdown",
   "id": "4c77a4f6",
   "metadata": {},
   "source": [
    "# Evalution for second time"
   ]
  },
  {
   "cell_type": "code",
   "execution_count": 22,
   "id": "b665ddee",
   "metadata": {},
   "outputs": [
    {
     "data": {
      "image/png": "[encoded data removed]",
      "text/plain": [
       "<Figure size 640x480 with 1 Axes>"
      ]
     },
     "metadata": {},
     "output_type": "display_data"
    }
   ],
   "source": [
    "from sklearn.metrics import accuracy_score, precision_score, recall_score, f1_score, confusion_matrix, roc_auc_score, roc_curve, precision_recall_curve\n",
    "\n",
    "accuracy = accuracy_score(Y_test, predictions_new)\n",
    "precision = precision_score(Y_test, predictions_new, average='macro')\n",
    "recall = recall_score(Y_test, predictions_new, average='macro')\n",
    "f1 = f1_score(Y_test, predictions_new, average='macro')\n",
    "conf_matrix = confusion_matrix(Y_test, predictions_new)\n",
    "roc_auc = roc_auc_score(Y_test, predictions_new)\n",
    "fpr, tpr, thresholds = roc_curve(Y_test, predictions_new)\n",
    "precision_curve, recall_curve, _ = precision_recall_curve(Y_test, predictions_new)\n",
    "\n",
    "labels = ['Cohen\\'s kappa', 'Precision', 'Recall', 'F1-score','roc_auc']\n",
    "values = [kappa_rf_new, precision, recall, f1,roc_auc]\n",
    "colors = ['darkorchid', 'aquamarine', 'hotpink', 'palegreen', 'slateblue']\n",
    "plt.grid(axis='y', linestyle='--', alpha=0.7)\n",
    "plt.bar(labels, values,color=colors)\n",
    "plt.title('Metrics for Random Forest Classifier')\n",
    "plt.ylabel('Score')\n",
    "plt.show()"
   ]
  },
  {
   "cell_type": "code",
   "execution_count": 23,
   "id": "2d895271",
   "metadata": {},
   "outputs": [
    {
     "name": "stdout",
     "output_type": "stream",
     "text": [
      "Accuracy: 0.9808389435525634\n",
      "Precision: 0.8064271255060729\n",
      "Recall: 0.7480843765030423\n",
      "F1-score: 0.7739881233776846\n",
      "Confusion Matrix:\n",
      "[[  70   69]\n",
      " [  42 5612]]\n",
      "ROC AUC Score: 0.7480843765030424\n"
     ]
    }
   ],
   "source": [
    "#Evaluate the classifier\n",
    "from sklearn.metrics import accuracy_score, precision_score, recall_score, f1_score, confusion_matrix, roc_auc_score, roc_curve, precision_recall_curve\n",
    "\n",
    "accuracy = accuracy_score(Y_test, predictions_new)\n",
    "precision = precision_score(Y_test, predictions_new, average='macro')\n",
    "recall = recall_score(Y_test, predictions_new, average='macro')\n",
    "f1 = f1_score(Y_test, predictions_new, average='macro')\n",
    "conf_matrix = confusion_matrix(Y_test, predictions_new)\n",
    "roc_auc = roc_auc_score(Y_test, predictions_new)\n",
    "fpr, tpr, thresholds = roc_curve(Y_test, predictions_new)\n",
    "precision_curve, recall_curve, _ = precision_recall_curve(Y_test, predictions_new)\n",
    "\n",
    "\n",
    "print(\"Accuracy:\", accuracy)\n",
    "print(\"Precision:\", precision)\n",
    "print(\"Recall:\", recall)\n",
    "print(\"F1-score:\", f1)\n",
    "print(\"Confusion Matrix:\")\n",
    "print(conf_matrix)\n",
    "print(\"ROC AUC Score:\", roc_auc)"
   ]
  }
 ],
 "metadata": {
  "kernelspec": {
   "display_name": "Python 3 (ipykernel)",
   "language": "python",
   "name": "python3"
  },
  "language_info": {
   "codemirror_mode": {
    "name": "ipython",
    "version": 3
   },
   "file_extension": ".py",
   "mimetype": "text/x-python",
   "name": "python",
   "nbconvert_exporter": "python",
   "pygments_lexer": "ipython3",
   "version": "3.11.5"
  }
 },
 "nbformat": 4,
 "nbformat_minor": 5
}
