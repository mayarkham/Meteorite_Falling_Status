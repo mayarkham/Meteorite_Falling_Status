{
 "cells": [
  {
   "cell_type": "markdown",
   "id": "4aa2d2eb",
   "metadata": {},
   "source": [
    "# Meteorite project"
   ]
  },
  {
   "cell_type": "code",
   "execution_count": 1,
   "id": "e8b614eb",
   "metadata": {},
   "outputs": [],
   "source": [
    "import pandas as pd\n",
    "meteorite=pd.read_csv('Meteorie.csv')"
   ]
  },
  {
   "cell_type": "code",
   "execution_count": 2,
   "id": "ac5d893d",
   "metadata": {},
   "outputs": [],
   "source": [
    "meteorite['fall'] = meteorite['fall'].replace({'Found':1,'Fell':0})"
   ]
  },
  {
   "cell_type": "markdown",
   "id": "fd89d549",
   "metadata": {},
   "source": [
    "# Exclude all class except the top 5"
   ]
  },
  {
   "cell_type": "code",
   "execution_count": 3,
   "id": "add863d7",
   "metadata": {},
   "outputs": [],
   "source": [
    "final_data=meteorite.drop(columns=['GeoLocation','id','nametype','name'])\n",
    "import pandas as pd\n",
    "\n",
    "classes_to_be_kept = ['L6', 'H5', 'L5','H6','H4']\n",
    "\n",
    "final_data = final_data[final_data['recclass'].isin(classes_to_be_kept)]\n",
    "final_data = final_data.reset_index()\n",
    "final_data=final_data.drop(columns=['index'])"
   ]
  },
  {
   "cell_type": "code",
   "execution_count": 4,
   "id": "5934c477",
   "metadata": {},
   "outputs": [],
   "source": [
    "value_counts = final_data['recclass'].value_counts()"
   ]
  },
  {
   "cell_type": "markdown",
   "id": "3650b50f",
   "metadata": {},
   "source": [
    "# Dealing with nan values using SimpleImputer with mean strategy"
   ]
  },
  {
   "cell_type": "code",
   "execution_count": 5,
   "id": "6ae61b6b",
   "metadata": {},
   "outputs": [],
   "source": [
    "from sklearn.impute import SimpleImputer\n",
    "import numpy as np\n",
    " \n",
    "imputer_num = SimpleImputer(missing_values=np.nan, strategy='mean')\n",
    "imputer_cat = SimpleImputer(missing_values=np.nan, strategy='most_frequent')\n",
    " \n",
    "num_cols = ['mass (g)', 'year', 'reclat', 'reclong']\n",
    "cat_col = ['recclass']\n",
    " \n",
    "final_data[num_cols] = imputer_num.fit_transform(final_data[num_cols]) \n",
    "final_data[cat_col] = imputer_cat.fit_transform(final_data[cat_col])\n"
   ]
  },
  {
   "cell_type": "code",
   "execution_count": 6,
   "id": "167c50f0",
   "metadata": {},
   "outputs": [
    {
     "name": "stdout",
     "output_type": "stream",
     "text": [
      "Mass null value:  0\n",
      "Year null value:  0\n",
      "Latitude null value:  0\n",
      "Longitude null value:  0\n",
      "reclass null value:  0\n"
     ]
    }
   ],
   "source": [
    "print('Mass null value: ',final_data['mass (g)'].isnull().sum())\n",
    "print('Year null value: ',final_data['year'].isnull().sum())\n",
    "print('Latitude null value: ',final_data['reclat'].isnull().sum())\n",
    "print('Longitude null value: ',final_data['reclong'].isnull().sum())\n",
    "print('reclass null value: ',final_data['recclass'].isnull().sum())"
   ]
  },
  {
   "cell_type": "markdown",
   "id": "4f570d75",
   "metadata": {},
   "source": [
    "# Dividing Data into X and Y"
   ]
  },
  {
   "cell_type": "code",
   "execution_count": 7,
   "id": "cd6e7311",
   "metadata": {},
   "outputs": [],
   "source": [
    "X = final_data.drop(columns=['fall']) \n",
    "Y = final_data['fall']"
   ]
  },
  {
   "cell_type": "markdown",
   "id": "10392965",
   "metadata": {},
   "source": [
    "# Encoding reclass using OneHotEncoder"
   ]
  },
  {
   "cell_type": "code",
   "execution_count": 8,
   "id": "8f7063c1",
   "metadata": {},
   "outputs": [
    {
     "name": "stderr",
     "output_type": "stream",
     "text": [
      "C:\\Users\\Admin\\anaconda3\\Lib\\site-packages\\sklearn\\preprocessing\\_encoders.py:972: FutureWarning: `sparse` was renamed to `sparse_output` in version 1.2 and will be removed in 1.4. `sparse_output` is ignored unless you leave `sparse` to its default value.\n",
      "  warnings.warn(\n"
     ]
    }
   ],
   "source": [
    "from sklearn.preprocessing import OneHotEncoder\n",
    "import pandas as pd\n",
    "\n",
    "encoder = OneHotEncoder(handle_unknown='ignore', sparse=False)\n",
    "encoded_data = encoder.fit_transform(X[['recclass']])\n",
    "\n",
    "# Get the feature names for the encoded columns\n",
    "feature_names = encoder.get_feature_names_out(['recclass'])\n",
    "encoded_df = pd.DataFrame(encoded_data, columns=feature_names)\n",
    "\n",
    "train = pd.concat([X.reset_index(drop=True), encoded_df], axis=1)\n",
    "\n",
    "X = train\n",
    "X = X.drop(columns=['recclass'])"
   ]
  },
  {
   "cell_type": "code",
   "execution_count": 9,
   "id": "a2cfe065",
   "metadata": {},
   "outputs": [],
   "source": [
    "from sklearn.model_selection import train_test_split\n",
    "X_train, X_test, Y_train, Y_test = train_test_split(X,Y,test_size=0.2)"
   ]
  },
  {
   "cell_type": "markdown",
   "id": "5531247d",
   "metadata": {},
   "source": [
    "# Scaling using StandardScaler"
   ]
  },
  {
   "cell_type": "code",
   "execution_count": 10,
   "id": "c58104cc",
   "metadata": {},
   "outputs": [],
   "source": [
    "from sklearn.preprocessing import StandardScaler\n",
    "\n",
    "scaler = StandardScaler()\n",
    "x_std= scaler.fit_transform(X_train) \n",
    "y_std = Y_train.to_numpy()"
   ]
  },
  {
   "cell_type": "markdown",
   "id": "a675d9cf",
   "metadata": {},
   "source": [
    "# Multilayer Perceptron (MLP) for fitting data\n",
    "A multi-layer perceptron (MLP) is a type of artificial neural network consisting of multiple layers of neurons. The neurons in the MLP typically use nonlinear activation functions, allowing the network to learn complex patterns in data."
   ]
  },
  {
   "cell_type": "code",
   "execution_count": 11,
   "id": "5839860a",
   "metadata": {},
   "outputs": [
    {
     "data": {
      "text/html": [
       "<style>#sk-container-id-1 {color: black;}#sk-container-id-1 pre{padding: 0;}#sk-container-id-1 div.sk-toggleable {background-color: white;}#sk-container-id-1 label.sk-toggleable__label {cursor: pointer;display: block;width: 100%;margin-bottom: 0;padding: 0.3em;box-sizing: border-box;text-align: center;}#sk-container-id-1 label.sk-toggleable__label-arrow:before {content: \"▸\";float: left;margin-right: 0.25em;color: #696969;}#sk-container-id-1 label.sk-toggleable__label-arrow:hover:before {color: black;}#sk-container-id-1 div.sk-estimator:hover label.sk-toggleable__label-arrow:before {color: black;}#sk-container-id-1 div.sk-toggleable__content {max-height: 0;max-width: 0;overflow: hidden;text-align: left;background-color: #f0f8ff;}#sk-container-id-1 div.sk-toggleable__content pre {margin: 0.2em;color: black;border-radius: 0.25em;background-color: #f0f8ff;}#sk-container-id-1 input.sk-toggleable__control:checked~div.sk-toggleable__content {max-height: 200px;max-width: 100%;overflow: auto;}#sk-container-id-1 input.sk-toggleable__control:checked~label.sk-toggleable__label-arrow:before {content: \"▾\";}#sk-container-id-1 div.sk-estimator input.sk-toggleable__control:checked~label.sk-toggleable__label {background-color: #d4ebff;}#sk-container-id-1 div.sk-label input.sk-toggleable__control:checked~label.sk-toggleable__label {background-color: #d4ebff;}#sk-container-id-1 input.sk-hidden--visually {border: 0;clip: rect(1px 1px 1px 1px);clip: rect(1px, 1px, 1px, 1px);height: 1px;margin: -1px;overflow: hidden;padding: 0;position: absolute;width: 1px;}#sk-container-id-1 div.sk-estimator {font-family: monospace;background-color: #f0f8ff;border: 1px dotted black;border-radius: 0.25em;box-sizing: border-box;margin-bottom: 0.5em;}#sk-container-id-1 div.sk-estimator:hover {background-color: #d4ebff;}#sk-container-id-1 div.sk-parallel-item::after {content: \"\";width: 100%;border-bottom: 1px solid gray;flex-grow: 1;}#sk-container-id-1 div.sk-label:hover label.sk-toggleable__label {background-color: #d4ebff;}#sk-container-id-1 div.sk-serial::before {content: \"\";position: absolute;border-left: 1px solid gray;box-sizing: border-box;top: 0;bottom: 0;left: 50%;z-index: 0;}#sk-container-id-1 div.sk-serial {display: flex;flex-direction: column;align-items: center;background-color: white;padding-right: 0.2em;padding-left: 0.2em;position: relative;}#sk-container-id-1 div.sk-item {position: relative;z-index: 1;}#sk-container-id-1 div.sk-parallel {display: flex;align-items: stretch;justify-content: center;background-color: white;position: relative;}#sk-container-id-1 div.sk-item::before, #sk-container-id-1 div.sk-parallel-item::before {content: \"\";position: absolute;border-left: 1px solid gray;box-sizing: border-box;top: 0;bottom: 0;left: 50%;z-index: -1;}#sk-container-id-1 div.sk-parallel-item {display: flex;flex-direction: column;z-index: 1;position: relative;background-color: white;}#sk-container-id-1 div.sk-parallel-item:first-child::after {align-self: flex-end;width: 50%;}#sk-container-id-1 div.sk-parallel-item:last-child::after {align-self: flex-start;width: 50%;}#sk-container-id-1 div.sk-parallel-item:only-child::after {width: 0;}#sk-container-id-1 div.sk-dashed-wrapped {border: 1px dashed gray;margin: 0 0.4em 0.5em 0.4em;box-sizing: border-box;padding-bottom: 0.4em;background-color: white;}#sk-container-id-1 div.sk-label label {font-family: monospace;font-weight: bold;display: inline-block;line-height: 1.2em;}#sk-container-id-1 div.sk-label-container {text-align: center;}#sk-container-id-1 div.sk-container {/* jupyter's `normalize.less` sets `[hidden] { display: none; }` but bootstrap.min.css set `[hidden] { display: none !important; }` so we also need the `!important` here to be able to override the default hidden behavior on the sphinx rendered scikit-learn.org. See: https://github.com/scikit-learn/scikit-learn/issues/21755 */display: inline-block !important;position: relative;}#sk-container-id-1 div.sk-text-repr-fallback {display: none;}</style><div id=\"sk-container-id-1\" class=\"sk-top-container\"><div class=\"sk-text-repr-fallback\"><pre>MLPClassifier(max_iter=500, random_state=42)</pre><b>In a Jupyter environment, please rerun this cell to show the HTML representation or trust the notebook. <br />On GitHub, the HTML representation is unable to render, please try loading this page with nbviewer.org.</b></div><div class=\"sk-container\" hidden><div class=\"sk-item\"><div class=\"sk-estimator sk-toggleable\"><input class=\"sk-toggleable__control sk-hidden--visually\" id=\"sk-estimator-id-1\" type=\"checkbox\" checked><label for=\"sk-estimator-id-1\" class=\"sk-toggleable__label sk-toggleable__label-arrow\">MLPClassifier</label><div class=\"sk-toggleable__content\"><pre>MLPClassifier(max_iter=500, random_state=42)</pre></div></div></div></div></div>"
      ],
      "text/plain": [
       "MLPClassifier(max_iter=500, random_state=42)"
      ]
     },
     "execution_count": 11,
     "metadata": {},
     "output_type": "execute_result"
    }
   ],
   "source": [
    "from sklearn.neural_network import MLPClassifier\n",
    "\n",
    "clf = MLPClassifier(hidden_layer_sizes=(100, ), activation='relu', solver='adam', max_iter=500, random_state=42)\n",
    "\n",
    "clf.fit(x_std, y_std)"
   ]
  },
  {
   "cell_type": "markdown",
   "id": "6cbebe4f",
   "metadata": {},
   "source": [
    "# Prediction, Accuracy and kappa cohens"
   ]
  },
  {
   "cell_type": "code",
   "execution_count": 12,
   "id": "8710075f",
   "metadata": {},
   "outputs": [
    {
     "name": "stdout",
     "output_type": "stream",
     "text": [
      "Accuracy: 0.9765233902986363\n",
      "Classification Report:\n",
      "              precision    recall  f1-score   support\n",
      "\n",
      "           0       0.21      0.03      0.06       125\n",
      "           1       0.98      1.00      0.99      5668\n",
      "\n",
      "    accuracy                           0.98      5793\n",
      "   macro avg       0.59      0.51      0.52      5793\n",
      "weighted avg       0.96      0.98      0.97      5793\n",
      "\n",
      "Cohen's Kappa: 0.050146966273711735\n"
     ]
    },
    {
     "name": "stderr",
     "output_type": "stream",
     "text": [
      "C:\\Users\\Admin\\anaconda3\\Lib\\site-packages\\sklearn\\base.py:457: UserWarning: X has feature names, but MLPClassifier was fitted without feature names\n",
      "  warnings.warn(\n"
     ]
    }
   ],
   "source": [
    "from sklearn.metrics import cohen_kappa_score\n",
    "from sklearn.metrics import accuracy_score, precision_score, recall_score, f1_score, confusion_matrix, roc_auc_score, roc_curve, precision_recall_curve\n",
    "from sklearn.metrics import classification_report\n",
    "import matplotlib.pyplot as plt\n",
    "\n",
    "predictions_mlp = clf.predict(X_test)\n",
    "\n",
    "# Evaluate the classifier\n",
    "accuracy = accuracy_score(Y_test, predictions_mlp)\n",
    "report = classification_report(Y_test, predictions_mlp)\n",
    "\n",
    "print(\"Accuracy:\", accuracy)\n",
    "print(\"Classification Report:\")\n",
    "print(report)\n",
    "\n",
    "kappa_mlp = cohen_kappa_score(Y_test, predictions_mlp)\n",
    "\n",
    "print(\"Cohen's Kappa:\", kappa_mlp)"
   ]
  },
  {
   "cell_type": "code",
   "execution_count": 13,
   "id": "985f7cc0",
   "metadata": {},
   "outputs": [],
   "source": [
    "from sklearn.metrics import accuracy_score, classification_report"
   ]
  },
  {
   "cell_type": "code",
   "execution_count": 15,
   "id": "5bc89faf",
   "metadata": {},
   "outputs": [
    {
     "data": {
      "image/png": "[encoded data removed]",
      "text/plain": [
       "<Figure size 640x480 with 1 Axes>"
      ]
     },
     "metadata": {},
     "output_type": "display_data"
    }
   ],
   "source": [
    "from sklearn.metrics import accuracy_score, precision_score, recall_score, f1_score, confusion_matrix, roc_auc_score, roc_curve, precision_recall_curve\n",
    "\n",
    "accuracy = accuracy_score(Y_test, predictions_mlp)\n",
    "precision = precision_score(Y_test, predictions_mlp, average='macro')\n",
    "recall = recall_score(Y_test, predictions_mlp, average='macro')\n",
    "f1 = f1_score(Y_test, predictions_mlp, average='macro')\n",
    "conf_matrix = confusion_matrix(Y_test, predictions_mlp)\n",
    "roc_auc = roc_auc_score(Y_test, predictions_mlp)\n",
    "fpr, tpr, thresholds = roc_curve(Y_test, predictions_mlp)\n",
    "precision_curve, recall_curve, _ = precision_recall_curve(Y_test, predictions_mlp)\n",
    "\n",
    "kappa_mlp = cohen_kappa_score(Y_test, predictions_mlp)\n",
    "\n",
    "labels = ['Cohen\\'s kappa', 'Precision', 'Recall', 'F1-score','roc_auc']\n",
    "values = [kappa_mlp, precision, recall, f1,roc_auc]\n",
    "colors = ['darkorchid', 'aquamarine', 'hotpink', 'palegreen', 'slateblue']\n",
    "plt.grid(axis='y', linestyle='--', alpha=0.7)\n",
    "plt.bar(labels, values,color=colors)\n",
    "plt.title('Metrics for MLP Classifier')\n",
    "plt.ylabel('Score')\n",
    "plt.show()\n"
   ]
  },
  {
   "cell_type": "code",
   "execution_count": null,
   "id": "9ef67e86",
   "metadata": {},
   "outputs": [],
   "source": []
  }
 ],
 "metadata": {
  "kernelspec": {
   "display_name": "Python 3 (ipykernel)",
   "language": "python",
   "name": "python3"
  },
  "language_info": {
   "codemirror_mode": {
    "name": "ipython",
    "version": 3
   },
   "file_extension": ".py",
   "mimetype": "text/x-python",
   "name": "python",
   "nbconvert_exporter": "python",
   "pygments_lexer": "ipython3",
   "version": "3.11.5"
  }
 },
 "nbformat": 4,
 "nbformat_minor": 5
}
